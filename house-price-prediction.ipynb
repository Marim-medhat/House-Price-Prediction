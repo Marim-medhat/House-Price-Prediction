{
 "cells": [
  {
   "cell_type": "code",
   "execution_count": 1,
   "id": "c679940c",
   "metadata": {
    "_cell_guid": "b1076dfc-b9ad-4769-8c92-a6c4dae69d19",
    "_uuid": "8f2839f25d086af736a60e9eeb907d3b93b6e0e5",
    "execution": {
     "iopub.execute_input": "2022-04-07T10:22:20.728855Z",
     "iopub.status.busy": "2022-04-07T10:22:20.727360Z",
     "iopub.status.idle": "2022-04-07T10:22:20.736185Z",
     "shell.execute_reply": "2022-04-07T10:22:20.735161Z",
     "shell.execute_reply.started": "2022-04-07T10:19:01.752496Z"
    },
    "papermill": {
     "duration": 0.051043,
     "end_time": "2022-04-07T10:22:20.736442",
     "exception": false,
     "start_time": "2022-04-07T10:22:20.685399",
     "status": "completed"
    },
    "tags": []
   },
   "outputs": [
    {
     "name": "stdout",
     "output_type": "stream",
     "text": [
      "/kaggle/input/house-prices-advanced-regression-techniques/sample_submission.csv\n",
      "/kaggle/input/house-prices-advanced-regression-techniques/data_description.txt\n",
      "/kaggle/input/house-prices-advanced-regression-techniques/train.csv\n",
      "/kaggle/input/house-prices-advanced-regression-techniques/test.csv\n"
     ]
    }
   ],
   "source": [
    "# This Python 3 environment comes with many helpful analytics libraries installed\n",
    "# It is defined by the kaggle/python Docker image: https://github.com/kaggle/docker-python\n",
    "# For example, here's several helpful packages to load\n",
    "\n",
    "import numpy as np # linear algebra\n",
    "import pandas as pd # data processing, CSV file I/O (e.g. pd.read_csv)\n",
    "\n",
    "# Input data files are available in the read-only \"../input/\" directory\n",
    "# For example, running this (by clicking run or pressing Shift+Enter) will list all files under the input directory\n",
    "\n",
    "import os\n",
    "for dirname, _, filenames in os.walk('/kaggle/input'):\n",
    "    for filename in filenames:\n",
    "        print(os.path.join(dirname, filename))\n",
    "\n",
    "# You can write up to 20GB to the current directory (/kaggle/working/) that gets preserved as output when you create a version using \"Save & Run All\" \n",
    "# You can also write temporary files to /kaggle/temp/, but they won't be saved outside of the current session"
   ]
  },
  {
   "cell_type": "markdown",
   "id": "5bfff343",
   "metadata": {
    "papermill": {
     "duration": 0.026439,
     "end_time": "2022-04-07T10:22:20.792290",
     "exception": false,
     "start_time": "2022-04-07T10:22:20.765851",
     "status": "completed"
    },
    "tags": []
   },
   "source": [
    "## Read the data"
   ]
  },
  {
   "cell_type": "code",
   "execution_count": 2,
   "id": "24b3c138",
   "metadata": {
    "execution": {
     "iopub.execute_input": "2022-04-07T10:22:20.854594Z",
     "iopub.status.busy": "2022-04-07T10:22:20.853897Z",
     "iopub.status.idle": "2022-04-07T10:22:22.185234Z",
     "shell.execute_reply": "2022-04-07T10:22:22.185793Z",
     "shell.execute_reply.started": "2022-04-07T10:19:01.780951Z"
    },
    "papermill": {
     "duration": 1.366819,
     "end_time": "2022-04-07T10:22:22.185992",
     "exception": false,
     "start_time": "2022-04-07T10:22:20.819173",
     "status": "completed"
    },
    "tags": []
   },
   "outputs": [],
   "source": [
    "import pandas as pd\n",
    "from sklearn.model_selection import train_test_split\n",
    "from sklearn.metrics import mean_squared_error\n",
    "\n",
    "\n",
    "\n",
    "# Read the data\n",
    "df_full = pd.read_csv('../input/house-prices-advanced-regression-techniques/train.csv', index_col='Id')\n",
    "df_test_full =  pd.read_csv('../input/house-prices-advanced-regression-techniques/test.csv', index_col='Id')"
   ]
  },
  {
   "cell_type": "code",
   "execution_count": 3,
   "id": "4039d45a",
   "metadata": {
    "execution": {
     "iopub.execute_input": "2022-04-07T10:22:22.244408Z",
     "iopub.status.busy": "2022-04-07T10:22:22.243327Z",
     "iopub.status.idle": "2022-04-07T10:22:22.274420Z",
     "shell.execute_reply": "2022-04-07T10:22:22.275010Z",
     "shell.execute_reply.started": "2022-04-07T10:19:01.827140Z"
    },
    "papermill": {
     "duration": 0.061275,
     "end_time": "2022-04-07T10:22:22.275191",
     "exception": false,
     "start_time": "2022-04-07T10:22:22.213916",
     "status": "completed"
    },
    "tags": []
   },
   "outputs": [
    {
     "name": "stdout",
     "output_type": "stream",
     "text": [
      "<class 'pandas.core.frame.DataFrame'>\n",
      "Int64Index: 1460 entries, 1 to 1460\n",
      "Data columns (total 80 columns):\n",
      " #   Column         Non-Null Count  Dtype  \n",
      "---  ------         --------------  -----  \n",
      " 0   MSSubClass     1460 non-null   int64  \n",
      " 1   MSZoning       1460 non-null   object \n",
      " 2   LotFrontage    1201 non-null   float64\n",
      " 3   LotArea        1460 non-null   int64  \n",
      " 4   Street         1460 non-null   object \n",
      " 5   Alley          91 non-null     object \n",
      " 6   LotShape       1460 non-null   object \n",
      " 7   LandContour    1460 non-null   object \n",
      " 8   Utilities      1460 non-null   object \n",
      " 9   LotConfig      1460 non-null   object \n",
      " 10  LandSlope      1460 non-null   object \n",
      " 11  Neighborhood   1460 non-null   object \n",
      " 12  Condition1     1460 non-null   object \n",
      " 13  Condition2     1460 non-null   object \n",
      " 14  BldgType       1460 non-null   object \n",
      " 15  HouseStyle     1460 non-null   object \n",
      " 16  OverallQual    1460 non-null   int64  \n",
      " 17  OverallCond    1460 non-null   int64  \n",
      " 18  YearBuilt      1460 non-null   int64  \n",
      " 19  YearRemodAdd   1460 non-null   int64  \n",
      " 20  RoofStyle      1460 non-null   object \n",
      " 21  RoofMatl       1460 non-null   object \n",
      " 22  Exterior1st    1460 non-null   object \n",
      " 23  Exterior2nd    1460 non-null   object \n",
      " 24  MasVnrType     1452 non-null   object \n",
      " 25  MasVnrArea     1452 non-null   float64\n",
      " 26  ExterQual      1460 non-null   object \n",
      " 27  ExterCond      1460 non-null   object \n",
      " 28  Foundation     1460 non-null   object \n",
      " 29  BsmtQual       1423 non-null   object \n",
      " 30  BsmtCond       1423 non-null   object \n",
      " 31  BsmtExposure   1422 non-null   object \n",
      " 32  BsmtFinType1   1423 non-null   object \n",
      " 33  BsmtFinSF1     1460 non-null   int64  \n",
      " 34  BsmtFinType2   1422 non-null   object \n",
      " 35  BsmtFinSF2     1460 non-null   int64  \n",
      " 36  BsmtUnfSF      1460 non-null   int64  \n",
      " 37  TotalBsmtSF    1460 non-null   int64  \n",
      " 38  Heating        1460 non-null   object \n",
      " 39  HeatingQC      1460 non-null   object \n",
      " 40  CentralAir     1460 non-null   object \n",
      " 41  Electrical     1459 non-null   object \n",
      " 42  1stFlrSF       1460 non-null   int64  \n",
      " 43  2ndFlrSF       1460 non-null   int64  \n",
      " 44  LowQualFinSF   1460 non-null   int64  \n",
      " 45  GrLivArea      1460 non-null   int64  \n",
      " 46  BsmtFullBath   1460 non-null   int64  \n",
      " 47  BsmtHalfBath   1460 non-null   int64  \n",
      " 48  FullBath       1460 non-null   int64  \n",
      " 49  HalfBath       1460 non-null   int64  \n",
      " 50  BedroomAbvGr   1460 non-null   int64  \n",
      " 51  KitchenAbvGr   1460 non-null   int64  \n",
      " 52  KitchenQual    1460 non-null   object \n",
      " 53  TotRmsAbvGrd   1460 non-null   int64  \n",
      " 54  Functional     1460 non-null   object \n",
      " 55  Fireplaces     1460 non-null   int64  \n",
      " 56  FireplaceQu    770 non-null    object \n",
      " 57  GarageType     1379 non-null   object \n",
      " 58  GarageYrBlt    1379 non-null   float64\n",
      " 59  GarageFinish   1379 non-null   object \n",
      " 60  GarageCars     1460 non-null   int64  \n",
      " 61  GarageArea     1460 non-null   int64  \n",
      " 62  GarageQual     1379 non-null   object \n",
      " 63  GarageCond     1379 non-null   object \n",
      " 64  PavedDrive     1460 non-null   object \n",
      " 65  WoodDeckSF     1460 non-null   int64  \n",
      " 66  OpenPorchSF    1460 non-null   int64  \n",
      " 67  EnclosedPorch  1460 non-null   int64  \n",
      " 68  3SsnPorch      1460 non-null   int64  \n",
      " 69  ScreenPorch    1460 non-null   int64  \n",
      " 70  PoolArea       1460 non-null   int64  \n",
      " 71  PoolQC         7 non-null      object \n",
      " 72  Fence          281 non-null    object \n",
      " 73  MiscFeature    54 non-null     object \n",
      " 74  MiscVal        1460 non-null   int64  \n",
      " 75  MoSold         1460 non-null   int64  \n",
      " 76  YrSold         1460 non-null   int64  \n",
      " 77  SaleType       1460 non-null   object \n",
      " 78  SaleCondition  1460 non-null   object \n",
      " 79  SalePrice      1460 non-null   int64  \n",
      "dtypes: float64(3), int64(34), object(43)\n",
      "memory usage: 923.9+ KB\n"
     ]
    }
   ],
   "source": [
    "df_full.info()\n"
   ]
  },
  {
   "cell_type": "markdown",
   "id": "32b24083",
   "metadata": {
    "papermill": {
     "duration": 0.027101,
     "end_time": "2022-04-07T10:22:22.329291",
     "exception": false,
     "start_time": "2022-04-07T10:22:22.302190",
     "status": "completed"
    },
    "tags": []
   },
   "source": [
    "## get the features with high correlation"
   ]
  },
  {
   "cell_type": "code",
   "execution_count": 4,
   "id": "ea642f81",
   "metadata": {
    "execution": {
     "iopub.execute_input": "2022-04-07T10:22:22.390276Z",
     "iopub.status.busy": "2022-04-07T10:22:22.389183Z",
     "iopub.status.idle": "2022-04-07T10:22:22.413266Z",
     "shell.execute_reply": "2022-04-07T10:22:22.413788Z",
     "shell.execute_reply.started": "2022-04-07T10:19:01.850564Z"
    },
    "papermill": {
     "duration": 0.057603,
     "end_time": "2022-04-07T10:22:22.413964",
     "exception": false,
     "start_time": "2022-04-07T10:22:22.356361",
     "status": "completed"
    },
    "scrolled": true,
    "tags": []
   },
   "outputs": [
    {
     "data": {
      "text/plain": [
       "array([['SalePrice', 1.0],\n",
       "       ['OverallQual', 0.7909816005838053],\n",
       "       ['GrLivArea', 0.7086244776126515],\n",
       "       ['GarageCars', 0.6404091972583519],\n",
       "       ['GarageArea', 0.6234314389183622],\n",
       "       ['TotalBsmtSF', 0.6135805515591943],\n",
       "       ['1stFlrSF', 0.6058521846919153],\n",
       "       ['FullBath', 0.5606637627484453],\n",
       "       ['TotRmsAbvGrd', 0.5337231555820284],\n",
       "       ['YearBuilt', 0.5228973328794967],\n",
       "       ['YearRemodAdd', 0.5071009671113866]], dtype=object)"
      ]
     },
     "execution_count": 4,
     "metadata": {},
     "output_type": "execute_result"
    }
   ],
   "source": [
    "#find the correlation between SalePrice and all the other coulmns\n",
    "corr_df=df_full[df_full.columns[:]].corr()['SalePrice']\n",
    "#soet by correlation value between SalePrice and all the other coulmns\n",
    "corr_df=corr_df.sort_values(ascending=False)\n",
    "# Convert to dataframe an get top 10 which have corr value more then 0.5\n",
    "correlations = pd.DataFrame(corr_df).reset_index() \n",
    "high_correlations=correlations.values[0:11]\n",
    "high_correlations"
   ]
  },
  {
   "cell_type": "code",
   "execution_count": 5,
   "id": "b0a675e0",
   "metadata": {
    "execution": {
     "iopub.execute_input": "2022-04-07T10:22:22.476534Z",
     "iopub.status.busy": "2022-04-07T10:22:22.475397Z",
     "iopub.status.idle": "2022-04-07T10:22:22.477408Z",
     "shell.execute_reply": "2022-04-07T10:22:22.478033Z",
     "shell.execute_reply.started": "2022-04-07T10:19:01.875964Z"
    },
    "papermill": {
     "duration": 0.035372,
     "end_time": "2022-04-07T10:22:22.478220",
     "exception": false,
     "start_time": "2022-04-07T10:22:22.442848",
     "status": "completed"
    },
    "tags": []
   },
   "outputs": [],
   "source": [
    "coul_with_high_corr=high_correlations[:,0]"
   ]
  },
  {
   "cell_type": "code",
   "execution_count": 6,
   "id": "8f044e49",
   "metadata": {
    "execution": {
     "iopub.execute_input": "2022-04-07T10:22:22.540621Z",
     "iopub.status.busy": "2022-04-07T10:22:22.539543Z",
     "iopub.status.idle": "2022-04-07T10:22:22.590462Z",
     "shell.execute_reply": "2022-04-07T10:22:22.589922Z",
     "shell.execute_reply.started": "2022-04-07T10:19:01.891172Z"
    },
    "papermill": {
     "duration": 0.083673,
     "end_time": "2022-04-07T10:22:22.590616",
     "exception": false,
     "start_time": "2022-04-07T10:22:22.506943",
     "status": "completed"
    },
    "tags": []
   },
   "outputs": [
    {
     "data": {
      "text/html": [
       "<div>\n",
       "<style scoped>\n",
       "    .dataframe tbody tr th:only-of-type {\n",
       "        vertical-align: middle;\n",
       "    }\n",
       "\n",
       "    .dataframe tbody tr th {\n",
       "        vertical-align: top;\n",
       "    }\n",
       "\n",
       "    .dataframe thead th {\n",
       "        text-align: right;\n",
       "    }\n",
       "</style>\n",
       "<table border=\"1\" class=\"dataframe\">\n",
       "  <thead>\n",
       "    <tr style=\"text-align: right;\">\n",
       "      <th></th>\n",
       "      <th>SalePrice</th>\n",
       "      <th>OverallQual</th>\n",
       "      <th>GrLivArea</th>\n",
       "      <th>GarageCars</th>\n",
       "      <th>GarageArea</th>\n",
       "      <th>TotalBsmtSF</th>\n",
       "      <th>1stFlrSF</th>\n",
       "      <th>FullBath</th>\n",
       "      <th>TotRmsAbvGrd</th>\n",
       "      <th>YearBuilt</th>\n",
       "      <th>YearRemodAdd</th>\n",
       "    </tr>\n",
       "  </thead>\n",
       "  <tbody>\n",
       "    <tr>\n",
       "      <th>count</th>\n",
       "      <td>1460.000000</td>\n",
       "      <td>1460.000000</td>\n",
       "      <td>1460.000000</td>\n",
       "      <td>1460.000000</td>\n",
       "      <td>1460.000000</td>\n",
       "      <td>1460.000000</td>\n",
       "      <td>1460.000000</td>\n",
       "      <td>1460.000000</td>\n",
       "      <td>1460.000000</td>\n",
       "      <td>1460.000000</td>\n",
       "      <td>1460.000000</td>\n",
       "    </tr>\n",
       "    <tr>\n",
       "      <th>mean</th>\n",
       "      <td>180921.195890</td>\n",
       "      <td>6.099315</td>\n",
       "      <td>1515.463699</td>\n",
       "      <td>1.767123</td>\n",
       "      <td>472.980137</td>\n",
       "      <td>1057.429452</td>\n",
       "      <td>1162.626712</td>\n",
       "      <td>1.565068</td>\n",
       "      <td>6.517808</td>\n",
       "      <td>1971.267808</td>\n",
       "      <td>1984.865753</td>\n",
       "    </tr>\n",
       "    <tr>\n",
       "      <th>std</th>\n",
       "      <td>79442.502883</td>\n",
       "      <td>1.382997</td>\n",
       "      <td>525.480383</td>\n",
       "      <td>0.747315</td>\n",
       "      <td>213.804841</td>\n",
       "      <td>438.705324</td>\n",
       "      <td>386.587738</td>\n",
       "      <td>0.550916</td>\n",
       "      <td>1.625393</td>\n",
       "      <td>30.202904</td>\n",
       "      <td>20.645407</td>\n",
       "    </tr>\n",
       "    <tr>\n",
       "      <th>min</th>\n",
       "      <td>34900.000000</td>\n",
       "      <td>1.000000</td>\n",
       "      <td>334.000000</td>\n",
       "      <td>0.000000</td>\n",
       "      <td>0.000000</td>\n",
       "      <td>0.000000</td>\n",
       "      <td>334.000000</td>\n",
       "      <td>0.000000</td>\n",
       "      <td>2.000000</td>\n",
       "      <td>1872.000000</td>\n",
       "      <td>1950.000000</td>\n",
       "    </tr>\n",
       "    <tr>\n",
       "      <th>25%</th>\n",
       "      <td>129975.000000</td>\n",
       "      <td>5.000000</td>\n",
       "      <td>1129.500000</td>\n",
       "      <td>1.000000</td>\n",
       "      <td>334.500000</td>\n",
       "      <td>795.750000</td>\n",
       "      <td>882.000000</td>\n",
       "      <td>1.000000</td>\n",
       "      <td>5.000000</td>\n",
       "      <td>1954.000000</td>\n",
       "      <td>1967.000000</td>\n",
       "    </tr>\n",
       "    <tr>\n",
       "      <th>50%</th>\n",
       "      <td>163000.000000</td>\n",
       "      <td>6.000000</td>\n",
       "      <td>1464.000000</td>\n",
       "      <td>2.000000</td>\n",
       "      <td>480.000000</td>\n",
       "      <td>991.500000</td>\n",
       "      <td>1087.000000</td>\n",
       "      <td>2.000000</td>\n",
       "      <td>6.000000</td>\n",
       "      <td>1973.000000</td>\n",
       "      <td>1994.000000</td>\n",
       "    </tr>\n",
       "    <tr>\n",
       "      <th>75%</th>\n",
       "      <td>214000.000000</td>\n",
       "      <td>7.000000</td>\n",
       "      <td>1776.750000</td>\n",
       "      <td>2.000000</td>\n",
       "      <td>576.000000</td>\n",
       "      <td>1298.250000</td>\n",
       "      <td>1391.250000</td>\n",
       "      <td>2.000000</td>\n",
       "      <td>7.000000</td>\n",
       "      <td>2000.000000</td>\n",
       "      <td>2004.000000</td>\n",
       "    </tr>\n",
       "    <tr>\n",
       "      <th>max</th>\n",
       "      <td>755000.000000</td>\n",
       "      <td>10.000000</td>\n",
       "      <td>5642.000000</td>\n",
       "      <td>4.000000</td>\n",
       "      <td>1418.000000</td>\n",
       "      <td>6110.000000</td>\n",
       "      <td>4692.000000</td>\n",
       "      <td>3.000000</td>\n",
       "      <td>14.000000</td>\n",
       "      <td>2010.000000</td>\n",
       "      <td>2010.000000</td>\n",
       "    </tr>\n",
       "  </tbody>\n",
       "</table>\n",
       "</div>"
      ],
      "text/plain": [
       "           SalePrice  OverallQual    GrLivArea   GarageCars   GarageArea  \\\n",
       "count    1460.000000  1460.000000  1460.000000  1460.000000  1460.000000   \n",
       "mean   180921.195890     6.099315  1515.463699     1.767123   472.980137   \n",
       "std     79442.502883     1.382997   525.480383     0.747315   213.804841   \n",
       "min     34900.000000     1.000000   334.000000     0.000000     0.000000   \n",
       "25%    129975.000000     5.000000  1129.500000     1.000000   334.500000   \n",
       "50%    163000.000000     6.000000  1464.000000     2.000000   480.000000   \n",
       "75%    214000.000000     7.000000  1776.750000     2.000000   576.000000   \n",
       "max    755000.000000    10.000000  5642.000000     4.000000  1418.000000   \n",
       "\n",
       "       TotalBsmtSF     1stFlrSF     FullBath  TotRmsAbvGrd    YearBuilt  \\\n",
       "count  1460.000000  1460.000000  1460.000000   1460.000000  1460.000000   \n",
       "mean   1057.429452  1162.626712     1.565068      6.517808  1971.267808   \n",
       "std     438.705324   386.587738     0.550916      1.625393    30.202904   \n",
       "min       0.000000   334.000000     0.000000      2.000000  1872.000000   \n",
       "25%     795.750000   882.000000     1.000000      5.000000  1954.000000   \n",
       "50%     991.500000  1087.000000     2.000000      6.000000  1973.000000   \n",
       "75%    1298.250000  1391.250000     2.000000      7.000000  2000.000000   \n",
       "max    6110.000000  4692.000000     3.000000     14.000000  2010.000000   \n",
       "\n",
       "       YearRemodAdd  \n",
       "count   1460.000000  \n",
       "mean    1984.865753  \n",
       "std       20.645407  \n",
       "min     1950.000000  \n",
       "25%     1967.000000  \n",
       "50%     1994.000000  \n",
       "75%     2004.000000  \n",
       "max     2010.000000  "
      ]
     },
     "execution_count": 6,
     "metadata": {},
     "output_type": "execute_result"
    }
   ],
   "source": [
    "df=df_full[coul_with_high_corr]\n",
    "df.describe()"
   ]
  },
  {
   "cell_type": "markdown",
   "id": "3bf3ed03",
   "metadata": {
    "papermill": {
     "duration": 0.027898,
     "end_time": "2022-04-07T10:22:22.648868",
     "exception": false,
     "start_time": "2022-04-07T10:22:22.620970",
     "status": "completed"
    },
    "tags": []
   },
   "source": [
    "### I will drop GarageArea as it's the same feture like GarageCars and GarageCars have higher correlation \n"
   ]
  },
  {
   "cell_type": "code",
   "execution_count": 7,
   "id": "96bcf8f4",
   "metadata": {
    "execution": {
     "iopub.execute_input": "2022-04-07T10:22:22.713235Z",
     "iopub.status.busy": "2022-04-07T10:22:22.712470Z",
     "iopub.status.idle": "2022-04-07T10:22:22.722671Z",
     "shell.execute_reply": "2022-04-07T10:22:22.723911Z",
     "shell.execute_reply.started": "2022-04-07T10:19:01.932212Z"
    },
    "papermill": {
     "duration": 0.046811,
     "end_time": "2022-04-07T10:22:22.724447",
     "exception": false,
     "start_time": "2022-04-07T10:22:22.677636",
     "status": "completed"
    },
    "tags": []
   },
   "outputs": [
    {
     "name": "stderr",
     "output_type": "stream",
     "text": [
      "/opt/conda/lib/python3.7/site-packages/pandas/core/frame.py:4913: SettingWithCopyWarning: \n",
      "A value is trying to be set on a copy of a slice from a DataFrame\n",
      "\n",
      "See the caveats in the documentation: https://pandas.pydata.org/pandas-docs/stable/user_guide/indexing.html#returning-a-view-versus-a-copy\n",
      "  errors=errors,\n"
     ]
    }
   ],
   "source": [
    "df.drop(['GarageArea'], axis=1, inplace=True)\n"
   ]
  },
  {
   "cell_type": "code",
   "execution_count": 8,
   "id": "6b2bc67d",
   "metadata": {
    "execution": {
     "iopub.execute_input": "2022-04-07T10:22:22.786658Z",
     "iopub.status.busy": "2022-04-07T10:22:22.785946Z",
     "iopub.status.idle": "2022-04-07T10:22:22.801799Z",
     "shell.execute_reply": "2022-04-07T10:22:22.802373Z",
     "shell.execute_reply.started": "2022-04-07T10:19:01.951458Z"
    },
    "papermill": {
     "duration": 0.048525,
     "end_time": "2022-04-07T10:22:22.802580",
     "exception": false,
     "start_time": "2022-04-07T10:22:22.754055",
     "status": "completed"
    },
    "tags": []
   },
   "outputs": [
    {
     "data": {
      "text/html": [
       "<div>\n",
       "<style scoped>\n",
       "    .dataframe tbody tr th:only-of-type {\n",
       "        vertical-align: middle;\n",
       "    }\n",
       "\n",
       "    .dataframe tbody tr th {\n",
       "        vertical-align: top;\n",
       "    }\n",
       "\n",
       "    .dataframe thead th {\n",
       "        text-align: right;\n",
       "    }\n",
       "</style>\n",
       "<table border=\"1\" class=\"dataframe\">\n",
       "  <thead>\n",
       "    <tr style=\"text-align: right;\">\n",
       "      <th></th>\n",
       "      <th>SalePrice</th>\n",
       "      <th>OverallQual</th>\n",
       "      <th>GrLivArea</th>\n",
       "      <th>GarageCars</th>\n",
       "      <th>TotalBsmtSF</th>\n",
       "      <th>1stFlrSF</th>\n",
       "      <th>FullBath</th>\n",
       "      <th>TotRmsAbvGrd</th>\n",
       "      <th>YearBuilt</th>\n",
       "      <th>YearRemodAdd</th>\n",
       "    </tr>\n",
       "    <tr>\n",
       "      <th>Id</th>\n",
       "      <th></th>\n",
       "      <th></th>\n",
       "      <th></th>\n",
       "      <th></th>\n",
       "      <th></th>\n",
       "      <th></th>\n",
       "      <th></th>\n",
       "      <th></th>\n",
       "      <th></th>\n",
       "      <th></th>\n",
       "    </tr>\n",
       "  </thead>\n",
       "  <tbody>\n",
       "    <tr>\n",
       "      <th>1</th>\n",
       "      <td>208500</td>\n",
       "      <td>7</td>\n",
       "      <td>1710</td>\n",
       "      <td>2</td>\n",
       "      <td>856</td>\n",
       "      <td>856</td>\n",
       "      <td>2</td>\n",
       "      <td>8</td>\n",
       "      <td>2003</td>\n",
       "      <td>2003</td>\n",
       "    </tr>\n",
       "    <tr>\n",
       "      <th>2</th>\n",
       "      <td>181500</td>\n",
       "      <td>6</td>\n",
       "      <td>1262</td>\n",
       "      <td>2</td>\n",
       "      <td>1262</td>\n",
       "      <td>1262</td>\n",
       "      <td>2</td>\n",
       "      <td>6</td>\n",
       "      <td>1976</td>\n",
       "      <td>1976</td>\n",
       "    </tr>\n",
       "    <tr>\n",
       "      <th>3</th>\n",
       "      <td>223500</td>\n",
       "      <td>7</td>\n",
       "      <td>1786</td>\n",
       "      <td>2</td>\n",
       "      <td>920</td>\n",
       "      <td>920</td>\n",
       "      <td>2</td>\n",
       "      <td>6</td>\n",
       "      <td>2001</td>\n",
       "      <td>2002</td>\n",
       "    </tr>\n",
       "    <tr>\n",
       "      <th>4</th>\n",
       "      <td>140000</td>\n",
       "      <td>7</td>\n",
       "      <td>1717</td>\n",
       "      <td>3</td>\n",
       "      <td>756</td>\n",
       "      <td>961</td>\n",
       "      <td>1</td>\n",
       "      <td>7</td>\n",
       "      <td>1915</td>\n",
       "      <td>1970</td>\n",
       "    </tr>\n",
       "    <tr>\n",
       "      <th>5</th>\n",
       "      <td>250000</td>\n",
       "      <td>8</td>\n",
       "      <td>2198</td>\n",
       "      <td>3</td>\n",
       "      <td>1145</td>\n",
       "      <td>1145</td>\n",
       "      <td>2</td>\n",
       "      <td>9</td>\n",
       "      <td>2000</td>\n",
       "      <td>2000</td>\n",
       "    </tr>\n",
       "    <tr>\n",
       "      <th>...</th>\n",
       "      <td>...</td>\n",
       "      <td>...</td>\n",
       "      <td>...</td>\n",
       "      <td>...</td>\n",
       "      <td>...</td>\n",
       "      <td>...</td>\n",
       "      <td>...</td>\n",
       "      <td>...</td>\n",
       "      <td>...</td>\n",
       "      <td>...</td>\n",
       "    </tr>\n",
       "    <tr>\n",
       "      <th>1456</th>\n",
       "      <td>175000</td>\n",
       "      <td>6</td>\n",
       "      <td>1647</td>\n",
       "      <td>2</td>\n",
       "      <td>953</td>\n",
       "      <td>953</td>\n",
       "      <td>2</td>\n",
       "      <td>7</td>\n",
       "      <td>1999</td>\n",
       "      <td>2000</td>\n",
       "    </tr>\n",
       "    <tr>\n",
       "      <th>1457</th>\n",
       "      <td>210000</td>\n",
       "      <td>6</td>\n",
       "      <td>2073</td>\n",
       "      <td>2</td>\n",
       "      <td>1542</td>\n",
       "      <td>2073</td>\n",
       "      <td>2</td>\n",
       "      <td>7</td>\n",
       "      <td>1978</td>\n",
       "      <td>1988</td>\n",
       "    </tr>\n",
       "    <tr>\n",
       "      <th>1458</th>\n",
       "      <td>266500</td>\n",
       "      <td>7</td>\n",
       "      <td>2340</td>\n",
       "      <td>1</td>\n",
       "      <td>1152</td>\n",
       "      <td>1188</td>\n",
       "      <td>2</td>\n",
       "      <td>9</td>\n",
       "      <td>1941</td>\n",
       "      <td>2006</td>\n",
       "    </tr>\n",
       "    <tr>\n",
       "      <th>1459</th>\n",
       "      <td>142125</td>\n",
       "      <td>5</td>\n",
       "      <td>1078</td>\n",
       "      <td>1</td>\n",
       "      <td>1078</td>\n",
       "      <td>1078</td>\n",
       "      <td>1</td>\n",
       "      <td>5</td>\n",
       "      <td>1950</td>\n",
       "      <td>1996</td>\n",
       "    </tr>\n",
       "    <tr>\n",
       "      <th>1460</th>\n",
       "      <td>147500</td>\n",
       "      <td>5</td>\n",
       "      <td>1256</td>\n",
       "      <td>1</td>\n",
       "      <td>1256</td>\n",
       "      <td>1256</td>\n",
       "      <td>1</td>\n",
       "      <td>6</td>\n",
       "      <td>1965</td>\n",
       "      <td>1965</td>\n",
       "    </tr>\n",
       "  </tbody>\n",
       "</table>\n",
       "<p>1460 rows × 10 columns</p>\n",
       "</div>"
      ],
      "text/plain": [
       "      SalePrice  OverallQual  GrLivArea  GarageCars  TotalBsmtSF  1stFlrSF  \\\n",
       "Id                                                                           \n",
       "1        208500            7       1710           2          856       856   \n",
       "2        181500            6       1262           2         1262      1262   \n",
       "3        223500            7       1786           2          920       920   \n",
       "4        140000            7       1717           3          756       961   \n",
       "5        250000            8       2198           3         1145      1145   \n",
       "...         ...          ...        ...         ...          ...       ...   \n",
       "1456     175000            6       1647           2          953       953   \n",
       "1457     210000            6       2073           2         1542      2073   \n",
       "1458     266500            7       2340           1         1152      1188   \n",
       "1459     142125            5       1078           1         1078      1078   \n",
       "1460     147500            5       1256           1         1256      1256   \n",
       "\n",
       "      FullBath  TotRmsAbvGrd  YearBuilt  YearRemodAdd  \n",
       "Id                                                     \n",
       "1            2             8       2003          2003  \n",
       "2            2             6       1976          1976  \n",
       "3            2             6       2001          2002  \n",
       "4            1             7       1915          1970  \n",
       "5            2             9       2000          2000  \n",
       "...        ...           ...        ...           ...  \n",
       "1456         2             7       1999          2000  \n",
       "1457         2             7       1978          1988  \n",
       "1458         2             9       1941          2006  \n",
       "1459         1             5       1950          1996  \n",
       "1460         1             6       1965          1965  \n",
       "\n",
       "[1460 rows x 10 columns]"
      ]
     },
     "execution_count": 8,
     "metadata": {},
     "output_type": "execute_result"
    }
   ],
   "source": [
    "df"
   ]
  },
  {
   "cell_type": "code",
   "execution_count": 9,
   "id": "0dd2fcf0",
   "metadata": {
    "execution": {
     "iopub.execute_input": "2022-04-07T10:22:22.871773Z",
     "iopub.status.busy": "2022-04-07T10:22:22.870900Z",
     "iopub.status.idle": "2022-04-07T10:22:22.873937Z",
     "shell.execute_reply": "2022-04-07T10:22:22.874500Z",
     "shell.execute_reply.started": "2022-04-07T10:19:01.982566Z"
    },
    "papermill": {
     "duration": 0.040433,
     "end_time": "2022-04-07T10:22:22.874688",
     "exception": false,
     "start_time": "2022-04-07T10:22:22.834255",
     "status": "completed"
    },
    "tags": []
   },
   "outputs": [
    {
     "name": "stderr",
     "output_type": "stream",
     "text": [
      "/opt/conda/lib/python3.7/site-packages/pandas/core/frame.py:4913: SettingWithCopyWarning: \n",
      "A value is trying to be set on a copy of a slice from a DataFrame\n",
      "\n",
      "See the caveats in the documentation: https://pandas.pydata.org/pandas-docs/stable/user_guide/indexing.html#returning-a-view-versus-a-copy\n",
      "  errors=errors,\n"
     ]
    }
   ],
   "source": [
    "y = df.SalePrice\n",
    "df.drop(['SalePrice'], axis=1, inplace=True)\n"
   ]
  },
  {
   "cell_type": "code",
   "execution_count": 10,
   "id": "6bc94809",
   "metadata": {
    "execution": {
     "iopub.execute_input": "2022-04-07T10:22:22.940718Z",
     "iopub.status.busy": "2022-04-07T10:22:22.939916Z",
     "iopub.status.idle": "2022-04-07T10:22:22.961214Z",
     "shell.execute_reply": "2022-04-07T10:22:22.961766Z",
     "shell.execute_reply.started": "2022-04-07T10:19:02.016053Z"
    },
    "papermill": {
     "duration": 0.057018,
     "end_time": "2022-04-07T10:22:22.961950",
     "exception": false,
     "start_time": "2022-04-07T10:22:22.904932",
     "status": "completed"
    },
    "tags": []
   },
   "outputs": [
    {
     "data": {
      "text/html": [
       "<div>\n",
       "<style scoped>\n",
       "    .dataframe tbody tr th:only-of-type {\n",
       "        vertical-align: middle;\n",
       "    }\n",
       "\n",
       "    .dataframe tbody tr th {\n",
       "        vertical-align: top;\n",
       "    }\n",
       "\n",
       "    .dataframe thead th {\n",
       "        text-align: right;\n",
       "    }\n",
       "</style>\n",
       "<table border=\"1\" class=\"dataframe\">\n",
       "  <thead>\n",
       "    <tr style=\"text-align: right;\">\n",
       "      <th></th>\n",
       "      <th>OverallQual</th>\n",
       "      <th>GrLivArea</th>\n",
       "      <th>GarageCars</th>\n",
       "      <th>TotalBsmtSF</th>\n",
       "      <th>1stFlrSF</th>\n",
       "      <th>FullBath</th>\n",
       "      <th>TotRmsAbvGrd</th>\n",
       "      <th>YearBuilt</th>\n",
       "      <th>YearRemodAdd</th>\n",
       "    </tr>\n",
       "    <tr>\n",
       "      <th>Id</th>\n",
       "      <th></th>\n",
       "      <th></th>\n",
       "      <th></th>\n",
       "      <th></th>\n",
       "      <th></th>\n",
       "      <th></th>\n",
       "      <th></th>\n",
       "      <th></th>\n",
       "      <th></th>\n",
       "    </tr>\n",
       "  </thead>\n",
       "  <tbody>\n",
       "    <tr>\n",
       "      <th>1461</th>\n",
       "      <td>5</td>\n",
       "      <td>896</td>\n",
       "      <td>1.0</td>\n",
       "      <td>882.0</td>\n",
       "      <td>896</td>\n",
       "      <td>1</td>\n",
       "      <td>5</td>\n",
       "      <td>1961</td>\n",
       "      <td>1961</td>\n",
       "    </tr>\n",
       "    <tr>\n",
       "      <th>1462</th>\n",
       "      <td>6</td>\n",
       "      <td>1329</td>\n",
       "      <td>1.0</td>\n",
       "      <td>1329.0</td>\n",
       "      <td>1329</td>\n",
       "      <td>1</td>\n",
       "      <td>6</td>\n",
       "      <td>1958</td>\n",
       "      <td>1958</td>\n",
       "    </tr>\n",
       "    <tr>\n",
       "      <th>1463</th>\n",
       "      <td>5</td>\n",
       "      <td>1629</td>\n",
       "      <td>2.0</td>\n",
       "      <td>928.0</td>\n",
       "      <td>928</td>\n",
       "      <td>2</td>\n",
       "      <td>6</td>\n",
       "      <td>1997</td>\n",
       "      <td>1998</td>\n",
       "    </tr>\n",
       "    <tr>\n",
       "      <th>1464</th>\n",
       "      <td>6</td>\n",
       "      <td>1604</td>\n",
       "      <td>2.0</td>\n",
       "      <td>926.0</td>\n",
       "      <td>926</td>\n",
       "      <td>2</td>\n",
       "      <td>7</td>\n",
       "      <td>1998</td>\n",
       "      <td>1998</td>\n",
       "    </tr>\n",
       "    <tr>\n",
       "      <th>1465</th>\n",
       "      <td>8</td>\n",
       "      <td>1280</td>\n",
       "      <td>2.0</td>\n",
       "      <td>1280.0</td>\n",
       "      <td>1280</td>\n",
       "      <td>2</td>\n",
       "      <td>5</td>\n",
       "      <td>1992</td>\n",
       "      <td>1992</td>\n",
       "    </tr>\n",
       "    <tr>\n",
       "      <th>...</th>\n",
       "      <td>...</td>\n",
       "      <td>...</td>\n",
       "      <td>...</td>\n",
       "      <td>...</td>\n",
       "      <td>...</td>\n",
       "      <td>...</td>\n",
       "      <td>...</td>\n",
       "      <td>...</td>\n",
       "      <td>...</td>\n",
       "    </tr>\n",
       "    <tr>\n",
       "      <th>2915</th>\n",
       "      <td>4</td>\n",
       "      <td>1092</td>\n",
       "      <td>0.0</td>\n",
       "      <td>546.0</td>\n",
       "      <td>546</td>\n",
       "      <td>1</td>\n",
       "      <td>5</td>\n",
       "      <td>1970</td>\n",
       "      <td>1970</td>\n",
       "    </tr>\n",
       "    <tr>\n",
       "      <th>2916</th>\n",
       "      <td>4</td>\n",
       "      <td>1092</td>\n",
       "      <td>1.0</td>\n",
       "      <td>546.0</td>\n",
       "      <td>546</td>\n",
       "      <td>1</td>\n",
       "      <td>6</td>\n",
       "      <td>1970</td>\n",
       "      <td>1970</td>\n",
       "    </tr>\n",
       "    <tr>\n",
       "      <th>2917</th>\n",
       "      <td>5</td>\n",
       "      <td>1224</td>\n",
       "      <td>2.0</td>\n",
       "      <td>1224.0</td>\n",
       "      <td>1224</td>\n",
       "      <td>1</td>\n",
       "      <td>7</td>\n",
       "      <td>1960</td>\n",
       "      <td>1996</td>\n",
       "    </tr>\n",
       "    <tr>\n",
       "      <th>2918</th>\n",
       "      <td>5</td>\n",
       "      <td>970</td>\n",
       "      <td>0.0</td>\n",
       "      <td>912.0</td>\n",
       "      <td>970</td>\n",
       "      <td>1</td>\n",
       "      <td>6</td>\n",
       "      <td>1992</td>\n",
       "      <td>1992</td>\n",
       "    </tr>\n",
       "    <tr>\n",
       "      <th>2919</th>\n",
       "      <td>7</td>\n",
       "      <td>2000</td>\n",
       "      <td>3.0</td>\n",
       "      <td>996.0</td>\n",
       "      <td>996</td>\n",
       "      <td>2</td>\n",
       "      <td>9</td>\n",
       "      <td>1993</td>\n",
       "      <td>1994</td>\n",
       "    </tr>\n",
       "  </tbody>\n",
       "</table>\n",
       "<p>1459 rows × 9 columns</p>\n",
       "</div>"
      ],
      "text/plain": [
       "      OverallQual  GrLivArea  GarageCars  TotalBsmtSF  1stFlrSF  FullBath  \\\n",
       "Id                                                                          \n",
       "1461            5        896         1.0        882.0       896         1   \n",
       "1462            6       1329         1.0       1329.0      1329         1   \n",
       "1463            5       1629         2.0        928.0       928         2   \n",
       "1464            6       1604         2.0        926.0       926         2   \n",
       "1465            8       1280         2.0       1280.0      1280         2   \n",
       "...           ...        ...         ...          ...       ...       ...   \n",
       "2915            4       1092         0.0        546.0       546         1   \n",
       "2916            4       1092         1.0        546.0       546         1   \n",
       "2917            5       1224         2.0       1224.0      1224         1   \n",
       "2918            5        970         0.0        912.0       970         1   \n",
       "2919            7       2000         3.0        996.0       996         2   \n",
       "\n",
       "      TotRmsAbvGrd  YearBuilt  YearRemodAdd  \n",
       "Id                                           \n",
       "1461             5       1961          1961  \n",
       "1462             6       1958          1958  \n",
       "1463             6       1997          1998  \n",
       "1464             7       1998          1998  \n",
       "1465             5       1992          1992  \n",
       "...            ...        ...           ...  \n",
       "2915             5       1970          1970  \n",
       "2916             6       1970          1970  \n",
       "2917             7       1960          1996  \n",
       "2918             6       1992          1992  \n",
       "2919             9       1993          1994  \n",
       "\n",
       "[1459 rows x 9 columns]"
      ]
     },
     "execution_count": 10,
     "metadata": {},
     "output_type": "execute_result"
    }
   ],
   "source": [
    "X_train_final = df.copy()\n",
    "X_test_final = df_test_full[coul_with_high_corr[1:]].copy()\n",
    "X_test_final.drop(['GarageArea'], axis=1, inplace=True)\n",
    "X_test_final"
   ]
  },
  {
   "cell_type": "code",
   "execution_count": 11,
   "id": "867d478e",
   "metadata": {
    "execution": {
     "iopub.execute_input": "2022-04-07T10:22:23.026617Z",
     "iopub.status.busy": "2022-04-07T10:22:23.025847Z",
     "iopub.status.idle": "2022-04-07T10:22:23.039108Z",
     "shell.execute_reply": "2022-04-07T10:22:23.039664Z",
     "shell.execute_reply.started": "2022-04-07T10:19:02.049402Z"
    },
    "papermill": {
     "duration": 0.047342,
     "end_time": "2022-04-07T10:22:23.039849",
     "exception": false,
     "start_time": "2022-04-07T10:22:22.992507",
     "status": "completed"
    },
    "tags": []
   },
   "outputs": [
    {
     "data": {
      "text/html": [
       "<div>\n",
       "<style scoped>\n",
       "    .dataframe tbody tr th:only-of-type {\n",
       "        vertical-align: middle;\n",
       "    }\n",
       "\n",
       "    .dataframe tbody tr th {\n",
       "        vertical-align: top;\n",
       "    }\n",
       "\n",
       "    .dataframe thead th {\n",
       "        text-align: right;\n",
       "    }\n",
       "</style>\n",
       "<table border=\"1\" class=\"dataframe\">\n",
       "  <thead>\n",
       "    <tr style=\"text-align: right;\">\n",
       "      <th></th>\n",
       "      <th>OverallQual</th>\n",
       "      <th>GrLivArea</th>\n",
       "      <th>GarageCars</th>\n",
       "      <th>TotalBsmtSF</th>\n",
       "      <th>1stFlrSF</th>\n",
       "      <th>FullBath</th>\n",
       "      <th>TotRmsAbvGrd</th>\n",
       "      <th>YearBuilt</th>\n",
       "      <th>YearRemodAdd</th>\n",
       "    </tr>\n",
       "    <tr>\n",
       "      <th>Id</th>\n",
       "      <th></th>\n",
       "      <th></th>\n",
       "      <th></th>\n",
       "      <th></th>\n",
       "      <th></th>\n",
       "      <th></th>\n",
       "      <th></th>\n",
       "      <th></th>\n",
       "      <th></th>\n",
       "    </tr>\n",
       "  </thead>\n",
       "  <tbody>\n",
       "    <tr>\n",
       "      <th>1</th>\n",
       "      <td>7</td>\n",
       "      <td>1710</td>\n",
       "      <td>2</td>\n",
       "      <td>856</td>\n",
       "      <td>856</td>\n",
       "      <td>2</td>\n",
       "      <td>8</td>\n",
       "      <td>2003</td>\n",
       "      <td>2003</td>\n",
       "    </tr>\n",
       "    <tr>\n",
       "      <th>2</th>\n",
       "      <td>6</td>\n",
       "      <td>1262</td>\n",
       "      <td>2</td>\n",
       "      <td>1262</td>\n",
       "      <td>1262</td>\n",
       "      <td>2</td>\n",
       "      <td>6</td>\n",
       "      <td>1976</td>\n",
       "      <td>1976</td>\n",
       "    </tr>\n",
       "    <tr>\n",
       "      <th>3</th>\n",
       "      <td>7</td>\n",
       "      <td>1786</td>\n",
       "      <td>2</td>\n",
       "      <td>920</td>\n",
       "      <td>920</td>\n",
       "      <td>2</td>\n",
       "      <td>6</td>\n",
       "      <td>2001</td>\n",
       "      <td>2002</td>\n",
       "    </tr>\n",
       "    <tr>\n",
       "      <th>4</th>\n",
       "      <td>7</td>\n",
       "      <td>1717</td>\n",
       "      <td>3</td>\n",
       "      <td>756</td>\n",
       "      <td>961</td>\n",
       "      <td>1</td>\n",
       "      <td>7</td>\n",
       "      <td>1915</td>\n",
       "      <td>1970</td>\n",
       "    </tr>\n",
       "    <tr>\n",
       "      <th>5</th>\n",
       "      <td>8</td>\n",
       "      <td>2198</td>\n",
       "      <td>3</td>\n",
       "      <td>1145</td>\n",
       "      <td>1145</td>\n",
       "      <td>2</td>\n",
       "      <td>9</td>\n",
       "      <td>2000</td>\n",
       "      <td>2000</td>\n",
       "    </tr>\n",
       "    <tr>\n",
       "      <th>...</th>\n",
       "      <td>...</td>\n",
       "      <td>...</td>\n",
       "      <td>...</td>\n",
       "      <td>...</td>\n",
       "      <td>...</td>\n",
       "      <td>...</td>\n",
       "      <td>...</td>\n",
       "      <td>...</td>\n",
       "      <td>...</td>\n",
       "    </tr>\n",
       "    <tr>\n",
       "      <th>1456</th>\n",
       "      <td>6</td>\n",
       "      <td>1647</td>\n",
       "      <td>2</td>\n",
       "      <td>953</td>\n",
       "      <td>953</td>\n",
       "      <td>2</td>\n",
       "      <td>7</td>\n",
       "      <td>1999</td>\n",
       "      <td>2000</td>\n",
       "    </tr>\n",
       "    <tr>\n",
       "      <th>1457</th>\n",
       "      <td>6</td>\n",
       "      <td>2073</td>\n",
       "      <td>2</td>\n",
       "      <td>1542</td>\n",
       "      <td>2073</td>\n",
       "      <td>2</td>\n",
       "      <td>7</td>\n",
       "      <td>1978</td>\n",
       "      <td>1988</td>\n",
       "    </tr>\n",
       "    <tr>\n",
       "      <th>1458</th>\n",
       "      <td>7</td>\n",
       "      <td>2340</td>\n",
       "      <td>1</td>\n",
       "      <td>1152</td>\n",
       "      <td>1188</td>\n",
       "      <td>2</td>\n",
       "      <td>9</td>\n",
       "      <td>1941</td>\n",
       "      <td>2006</td>\n",
       "    </tr>\n",
       "    <tr>\n",
       "      <th>1459</th>\n",
       "      <td>5</td>\n",
       "      <td>1078</td>\n",
       "      <td>1</td>\n",
       "      <td>1078</td>\n",
       "      <td>1078</td>\n",
       "      <td>1</td>\n",
       "      <td>5</td>\n",
       "      <td>1950</td>\n",
       "      <td>1996</td>\n",
       "    </tr>\n",
       "    <tr>\n",
       "      <th>1460</th>\n",
       "      <td>5</td>\n",
       "      <td>1256</td>\n",
       "      <td>1</td>\n",
       "      <td>1256</td>\n",
       "      <td>1256</td>\n",
       "      <td>1</td>\n",
       "      <td>6</td>\n",
       "      <td>1965</td>\n",
       "      <td>1965</td>\n",
       "    </tr>\n",
       "  </tbody>\n",
       "</table>\n",
       "<p>1460 rows × 9 columns</p>\n",
       "</div>"
      ],
      "text/plain": [
       "      OverallQual  GrLivArea  GarageCars  TotalBsmtSF  1stFlrSF  FullBath  \\\n",
       "Id                                                                          \n",
       "1               7       1710           2          856       856         2   \n",
       "2               6       1262           2         1262      1262         2   \n",
       "3               7       1786           2          920       920         2   \n",
       "4               7       1717           3          756       961         1   \n",
       "5               8       2198           3         1145      1145         2   \n",
       "...           ...        ...         ...          ...       ...       ...   \n",
       "1456            6       1647           2          953       953         2   \n",
       "1457            6       2073           2         1542      2073         2   \n",
       "1458            7       2340           1         1152      1188         2   \n",
       "1459            5       1078           1         1078      1078         1   \n",
       "1460            5       1256           1         1256      1256         1   \n",
       "\n",
       "      TotRmsAbvGrd  YearBuilt  YearRemodAdd  \n",
       "Id                                           \n",
       "1                8       2003          2003  \n",
       "2                6       1976          1976  \n",
       "3                6       2001          2002  \n",
       "4                7       1915          1970  \n",
       "5                9       2000          2000  \n",
       "...            ...        ...           ...  \n",
       "1456             7       1999          2000  \n",
       "1457             7       1978          1988  \n",
       "1458             9       1941          2006  \n",
       "1459             5       1950          1996  \n",
       "1460             6       1965          1965  \n",
       "\n",
       "[1460 rows x 9 columns]"
      ]
     },
     "execution_count": 11,
     "metadata": {},
     "output_type": "execute_result"
    }
   ],
   "source": [
    "X_train_final"
   ]
  },
  {
   "cell_type": "markdown",
   "id": "8413419e",
   "metadata": {
    "papermill": {
     "duration": 0.03218,
     "end_time": "2022-04-07T10:22:23.104777",
     "exception": false,
     "start_time": "2022-04-07T10:22:23.072597",
     "status": "completed"
    },
    "tags": []
   },
   "source": [
    "## Break off validation set from training data\n"
   ]
  },
  {
   "cell_type": "code",
   "execution_count": 12,
   "id": "d6bca280",
   "metadata": {
    "execution": {
     "iopub.execute_input": "2022-04-07T10:22:23.173602Z",
     "iopub.status.busy": "2022-04-07T10:22:23.172610Z",
     "iopub.status.idle": "2022-04-07T10:22:23.178856Z",
     "shell.execute_reply": "2022-04-07T10:22:23.179404Z",
     "shell.execute_reply.started": "2022-04-07T10:19:02.087998Z"
    },
    "papermill": {
     "duration": 0.043798,
     "end_time": "2022-04-07T10:22:23.179605",
     "exception": false,
     "start_time": "2022-04-07T10:22:23.135807",
     "status": "completed"
    },
    "tags": []
   },
   "outputs": [],
   "source": [
    "# Break off validation set from training data\n",
    "X_train, X_valid, y_train, y_valid = train_test_split(X_train_final, y,train_size=0.8, test_size=0.2,random_state=0)"
   ]
  },
  {
   "cell_type": "markdown",
   "id": "5024bd93",
   "metadata": {
    "papermill": {
     "duration": 0.031278,
     "end_time": "2022-04-07T10:22:23.243550",
     "exception": false,
     "start_time": "2022-04-07T10:22:23.212272",
     "status": "completed"
    },
    "tags": []
   },
   "source": [
    "## XGBRegressor model"
   ]
  },
  {
   "cell_type": "code",
   "execution_count": 13,
   "id": "e0e3e75e",
   "metadata": {
    "execution": {
     "iopub.execute_input": "2022-04-07T10:22:23.311926Z",
     "iopub.status.busy": "2022-04-07T10:22:23.311219Z",
     "iopub.status.idle": "2022-04-07T10:22:23.835417Z",
     "shell.execute_reply": "2022-04-07T10:22:23.834667Z",
     "shell.execute_reply.started": "2022-04-07T10:19:02.114509Z"
    },
    "papermill": {
     "duration": 0.560196,
     "end_time": "2022-04-07T10:22:23.835600",
     "exception": false,
     "start_time": "2022-04-07T10:22:23.275404",
     "status": "completed"
    },
    "tags": []
   },
   "outputs": [
    {
     "name": "stdout",
     "output_type": "stream",
     "text": [
      "RMSE: 0.14878004344935536\n"
     ]
    }
   ],
   "source": [
    "from xgboost import XGBRegressor\n",
    "\n",
    "xmodel=XGBRegressor(learning_rate=0.1,n_estimators=100)\n",
    "xmodel.fit(X_train,y_train)\n",
    "\n",
    "preds = xmodel.predict(X_valid)\n",
    "print('RMSE:', mean_squared_error(np.log(y_valid), np.log(preds),squared=False))\n"
   ]
  },
  {
   "cell_type": "markdown",
   "id": "832c4376",
   "metadata": {
    "papermill": {
     "duration": 0.032111,
     "end_time": "2022-04-07T10:22:23.901905",
     "exception": false,
     "start_time": "2022-04-07T10:22:23.869794",
     "status": "completed"
    },
    "tags": []
   },
   "source": [
    "## RandomForestRegressor model"
   ]
  },
  {
   "cell_type": "code",
   "execution_count": 14,
   "id": "31516039",
   "metadata": {
    "execution": {
     "iopub.execute_input": "2022-04-07T10:22:23.974168Z",
     "iopub.status.busy": "2022-04-07T10:22:23.973376Z",
     "iopub.status.idle": "2022-04-07T10:22:25.139936Z",
     "shell.execute_reply": "2022-04-07T10:22:25.139230Z",
     "shell.execute_reply.started": "2022-04-07T10:19:02.478379Z"
    },
    "papermill": {
     "duration": 1.205666,
     "end_time": "2022-04-07T10:22:25.140088",
     "exception": false,
     "start_time": "2022-04-07T10:22:23.934422",
     "status": "completed"
    },
    "tags": []
   },
   "outputs": [
    {
     "name": "stdout",
     "output_type": "stream",
     "text": [
      "RMSE: 0.14836558391545335\n"
     ]
    }
   ],
   "source": [
    "from sklearn.ensemble import RandomForestRegressor\n",
    "\n",
    "forest_model = RandomForestRegressor(n_estimators=200, max_depth=10)\n",
    "forest_model.fit(X_train, y_train)\n",
    "predicted_random_forest = forest_model.predict(X_valid)\n",
    "print('RMSE:', mean_squared_error(np.log(y_valid), np.log(predicted_random_forest),squared=False))"
   ]
  },
  {
   "cell_type": "markdown",
   "id": "52b74179",
   "metadata": {
    "papermill": {
     "duration": 0.031657,
     "end_time": "2022-04-07T10:22:25.204591",
     "exception": false,
     "start_time": "2022-04-07T10:22:25.172934",
     "status": "completed"
    },
    "tags": []
   },
   "source": [
    "### get the RMSE to different n_estimators "
   ]
  },
  {
   "cell_type": "code",
   "execution_count": 15,
   "id": "04fcc844",
   "metadata": {
    "execution": {
     "iopub.execute_input": "2022-04-07T10:22:25.277651Z",
     "iopub.status.busy": "2022-04-07T10:22:25.276525Z",
     "iopub.status.idle": "2022-04-07T10:22:34.530776Z",
     "shell.execute_reply": "2022-04-07T10:22:34.530047Z",
     "shell.execute_reply.started": "2022-04-07T10:19:03.294272Z"
    },
    "papermill": {
     "duration": 9.294209,
     "end_time": "2022-04-07T10:22:34.530926",
     "exception": false,
     "start_time": "2022-04-07T10:22:25.236717",
     "status": "completed"
    },
    "tags": []
   },
   "outputs": [],
   "source": [
    "RMSE_XGBRegressor=[]\n",
    "RMSE_RandomForestRegressor=[]\n",
    "for i in range(10,200,20):\n",
    "    xmodel=XGBRegressor(n_estimators=i)\n",
    "    xmodel.fit(X_train,y_train)\n",
    "    preds = xmodel.predict(X_valid)\n",
    "    RMSE_XGBRegressor.append(mean_squared_error(np.log(y_valid), np.log(preds),squared=False))\n",
    "\n",
    "    forest_model = RandomForestRegressor(n_estimators=i)\n",
    "    forest_model.fit(X_train, y_train)\n",
    "    predicted_random_forest = forest_model.predict(X_valid)\n",
    "    RMSE_RandomForestRegressor.append(mean_squared_error(np.log(y_valid), np.log(predicted_random_forest),squared=False))\n"
   ]
  },
  {
   "cell_type": "markdown",
   "id": "a7bfc823",
   "metadata": {
    "papermill": {
     "duration": 0.031399,
     "end_time": "2022-04-07T10:22:34.594662",
     "exception": false,
     "start_time": "2022-04-07T10:22:34.563263",
     "status": "completed"
    },
    "tags": []
   },
   "source": [
    "## RMSE VS n_estimators "
   ]
  },
  {
   "cell_type": "code",
   "execution_count": 16,
   "id": "a6228c6b",
   "metadata": {
    "execution": {
     "iopub.execute_input": "2022-04-07T10:22:34.666142Z",
     "iopub.status.busy": "2022-04-07T10:22:34.665364Z",
     "iopub.status.idle": "2022-04-07T10:22:34.935336Z",
     "shell.execute_reply": "2022-04-07T10:22:34.934799Z",
     "shell.execute_reply.started": "2022-04-07T10:19:12.076729Z"
    },
    "papermill": {
     "duration": 0.308923,
     "end_time": "2022-04-07T10:22:34.935499",
     "exception": false,
     "start_time": "2022-04-07T10:22:34.626576",
     "status": "completed"
    },
    "tags": []
   },
   "outputs": [
    {
     "data": {
      "text/html": [
       "        <script type=\"text/javascript\">\n",
       "        window.PlotlyConfig = {MathJaxConfig: 'local'};\n",
       "        if (window.MathJax) {MathJax.Hub.Config({SVG: {font: \"STIX-Web\"}});}\n",
       "        if (typeof require !== 'undefined') {\n",
       "        require.undef(\"plotly\");\n",
       "        requirejs.config({\n",
       "            paths: {\n",
       "                'plotly': ['https://cdn.plot.ly/plotly-2.9.0.min']\n",
       "            }\n",
       "        });\n",
       "        require(['plotly'], function(Plotly) {\n",
       "            window._Plotly = Plotly;\n",
       "        });\n",
       "        }\n",
       "        </script>\n",
       "        "
      ]
     },
     "metadata": {},
     "output_type": "display_data"
    },
    {
     "data": {
      "text/html": [
       "<div>                            <div id=\"d1d7e595-6079-46a3-8e7c-cbda53fbf216\" class=\"plotly-graph-div\" style=\"height:525px; width:100%;\"></div>            <script type=\"text/javascript\">                require([\"plotly\"], function(Plotly) {                    window.PLOTLYENV=window.PLOTLYENV || {};                                    if (document.getElementById(\"d1d7e595-6079-46a3-8e7c-cbda53fbf216\")) {                    Plotly.newPlot(                        \"d1d7e595-6079-46a3-8e7c-cbda53fbf216\",                        [{\"connectgaps\":true,\"name\":\"XGBRegressor\",\"x\":[10,30,50,70,90,110,130,150,170,190],\"y\":[0.1559976920269783,0.1593419301841139,0.161581814095935,0.16247500263415585,0.16318796352158113,0.1644153044259625,0.1649619366467864,0.16553450866497843,0.16570386987995528,0.16589292863530994],\"type\":\"scatter\"},{\"name\":\"RandomForestRegressor\",\"x\":[10,30,50,70,90,110,130,150,170,190],\"y\":[0.1547807238908501,0.15426096794957095,0.1489963726159101,0.15243153181124805,0.1497203027952202,0.15176118238977765,0.1499646236789003,0.15022992455221096,0.15017249784913259,0.15268617856139213],\"type\":\"scatter\"}],                        {\"template\":{\"data\":{\"bar\":[{\"error_x\":{\"color\":\"#2a3f5f\"},\"error_y\":{\"color\":\"#2a3f5f\"},\"marker\":{\"line\":{\"color\":\"#E5ECF6\",\"width\":0.5},\"pattern\":{\"fillmode\":\"overlay\",\"size\":10,\"solidity\":0.2}},\"type\":\"bar\"}],\"barpolar\":[{\"marker\":{\"line\":{\"color\":\"#E5ECF6\",\"width\":0.5},\"pattern\":{\"fillmode\":\"overlay\",\"size\":10,\"solidity\":0.2}},\"type\":\"barpolar\"}],\"carpet\":[{\"aaxis\":{\"endlinecolor\":\"#2a3f5f\",\"gridcolor\":\"white\",\"linecolor\":\"white\",\"minorgridcolor\":\"white\",\"startlinecolor\":\"#2a3f5f\"},\"baxis\":{\"endlinecolor\":\"#2a3f5f\",\"gridcolor\":\"white\",\"linecolor\":\"white\",\"minorgridcolor\":\"white\",\"startlinecolor\":\"#2a3f5f\"},\"type\":\"carpet\"}],\"choropleth\":[{\"colorbar\":{\"outlinewidth\":0,\"ticks\":\"\"},\"type\":\"choropleth\"}],\"contour\":[{\"colorbar\":{\"outlinewidth\":0,\"ticks\":\"\"},\"colorscale\":[[0.0,\"#0d0887\"],[0.1111111111111111,\"#46039f\"],[0.2222222222222222,\"#7201a8\"],[0.3333333333333333,\"#9c179e\"],[0.4444444444444444,\"#bd3786\"],[0.5555555555555556,\"#d8576b\"],[0.6666666666666666,\"#ed7953\"],[0.7777777777777778,\"#fb9f3a\"],[0.8888888888888888,\"#fdca26\"],[1.0,\"#f0f921\"]],\"type\":\"contour\"}],\"contourcarpet\":[{\"colorbar\":{\"outlinewidth\":0,\"ticks\":\"\"},\"type\":\"contourcarpet\"}],\"heatmap\":[{\"colorbar\":{\"outlinewidth\":0,\"ticks\":\"\"},\"colorscale\":[[0.0,\"#0d0887\"],[0.1111111111111111,\"#46039f\"],[0.2222222222222222,\"#7201a8\"],[0.3333333333333333,\"#9c179e\"],[0.4444444444444444,\"#bd3786\"],[0.5555555555555556,\"#d8576b\"],[0.6666666666666666,\"#ed7953\"],[0.7777777777777778,\"#fb9f3a\"],[0.8888888888888888,\"#fdca26\"],[1.0,\"#f0f921\"]],\"type\":\"heatmap\"}],\"heatmapgl\":[{\"colorbar\":{\"outlinewidth\":0,\"ticks\":\"\"},\"colorscale\":[[0.0,\"#0d0887\"],[0.1111111111111111,\"#46039f\"],[0.2222222222222222,\"#7201a8\"],[0.3333333333333333,\"#9c179e\"],[0.4444444444444444,\"#bd3786\"],[0.5555555555555556,\"#d8576b\"],[0.6666666666666666,\"#ed7953\"],[0.7777777777777778,\"#fb9f3a\"],[0.8888888888888888,\"#fdca26\"],[1.0,\"#f0f921\"]],\"type\":\"heatmapgl\"}],\"histogram\":[{\"marker\":{\"pattern\":{\"fillmode\":\"overlay\",\"size\":10,\"solidity\":0.2}},\"type\":\"histogram\"}],\"histogram2d\":[{\"colorbar\":{\"outlinewidth\":0,\"ticks\":\"\"},\"colorscale\":[[0.0,\"#0d0887\"],[0.1111111111111111,\"#46039f\"],[0.2222222222222222,\"#7201a8\"],[0.3333333333333333,\"#9c179e\"],[0.4444444444444444,\"#bd3786\"],[0.5555555555555556,\"#d8576b\"],[0.6666666666666666,\"#ed7953\"],[0.7777777777777778,\"#fb9f3a\"],[0.8888888888888888,\"#fdca26\"],[1.0,\"#f0f921\"]],\"type\":\"histogram2d\"}],\"histogram2dcontour\":[{\"colorbar\":{\"outlinewidth\":0,\"ticks\":\"\"},\"colorscale\":[[0.0,\"#0d0887\"],[0.1111111111111111,\"#46039f\"],[0.2222222222222222,\"#7201a8\"],[0.3333333333333333,\"#9c179e\"],[0.4444444444444444,\"#bd3786\"],[0.5555555555555556,\"#d8576b\"],[0.6666666666666666,\"#ed7953\"],[0.7777777777777778,\"#fb9f3a\"],[0.8888888888888888,\"#fdca26\"],[1.0,\"#f0f921\"]],\"type\":\"histogram2dcontour\"}],\"mesh3d\":[{\"colorbar\":{\"outlinewidth\":0,\"ticks\":\"\"},\"type\":\"mesh3d\"}],\"parcoords\":[{\"line\":{\"colorbar\":{\"outlinewidth\":0,\"ticks\":\"\"}},\"type\":\"parcoords\"}],\"pie\":[{\"automargin\":true,\"type\":\"pie\"}],\"scatter\":[{\"marker\":{\"colorbar\":{\"outlinewidth\":0,\"ticks\":\"\"}},\"type\":\"scatter\"}],\"scatter3d\":[{\"line\":{\"colorbar\":{\"outlinewidth\":0,\"ticks\":\"\"}},\"marker\":{\"colorbar\":{\"outlinewidth\":0,\"ticks\":\"\"}},\"type\":\"scatter3d\"}],\"scattercarpet\":[{\"marker\":{\"colorbar\":{\"outlinewidth\":0,\"ticks\":\"\"}},\"type\":\"scattercarpet\"}],\"scattergeo\":[{\"marker\":{\"colorbar\":{\"outlinewidth\":0,\"ticks\":\"\"}},\"type\":\"scattergeo\"}],\"scattergl\":[{\"marker\":{\"colorbar\":{\"outlinewidth\":0,\"ticks\":\"\"}},\"type\":\"scattergl\"}],\"scattermapbox\":[{\"marker\":{\"colorbar\":{\"outlinewidth\":0,\"ticks\":\"\"}},\"type\":\"scattermapbox\"}],\"scatterpolar\":[{\"marker\":{\"colorbar\":{\"outlinewidth\":0,\"ticks\":\"\"}},\"type\":\"scatterpolar\"}],\"scatterpolargl\":[{\"marker\":{\"colorbar\":{\"outlinewidth\":0,\"ticks\":\"\"}},\"type\":\"scatterpolargl\"}],\"scatterternary\":[{\"marker\":{\"colorbar\":{\"outlinewidth\":0,\"ticks\":\"\"}},\"type\":\"scatterternary\"}],\"surface\":[{\"colorbar\":{\"outlinewidth\":0,\"ticks\":\"\"},\"colorscale\":[[0.0,\"#0d0887\"],[0.1111111111111111,\"#46039f\"],[0.2222222222222222,\"#7201a8\"],[0.3333333333333333,\"#9c179e\"],[0.4444444444444444,\"#bd3786\"],[0.5555555555555556,\"#d8576b\"],[0.6666666666666666,\"#ed7953\"],[0.7777777777777778,\"#fb9f3a\"],[0.8888888888888888,\"#fdca26\"],[1.0,\"#f0f921\"]],\"type\":\"surface\"}],\"table\":[{\"cells\":{\"fill\":{\"color\":\"#EBF0F8\"},\"line\":{\"color\":\"white\"}},\"header\":{\"fill\":{\"color\":\"#C8D4E3\"},\"line\":{\"color\":\"white\"}},\"type\":\"table\"}]},\"layout\":{\"annotationdefaults\":{\"arrowcolor\":\"#2a3f5f\",\"arrowhead\":0,\"arrowwidth\":1},\"autotypenumbers\":\"strict\",\"coloraxis\":{\"colorbar\":{\"outlinewidth\":0,\"ticks\":\"\"}},\"colorscale\":{\"diverging\":[[0,\"#8e0152\"],[0.1,\"#c51b7d\"],[0.2,\"#de77ae\"],[0.3,\"#f1b6da\"],[0.4,\"#fde0ef\"],[0.5,\"#f7f7f7\"],[0.6,\"#e6f5d0\"],[0.7,\"#b8e186\"],[0.8,\"#7fbc41\"],[0.9,\"#4d9221\"],[1,\"#276419\"]],\"sequential\":[[0.0,\"#0d0887\"],[0.1111111111111111,\"#46039f\"],[0.2222222222222222,\"#7201a8\"],[0.3333333333333333,\"#9c179e\"],[0.4444444444444444,\"#bd3786\"],[0.5555555555555556,\"#d8576b\"],[0.6666666666666666,\"#ed7953\"],[0.7777777777777778,\"#fb9f3a\"],[0.8888888888888888,\"#fdca26\"],[1.0,\"#f0f921\"]],\"sequentialminus\":[[0.0,\"#0d0887\"],[0.1111111111111111,\"#46039f\"],[0.2222222222222222,\"#7201a8\"],[0.3333333333333333,\"#9c179e\"],[0.4444444444444444,\"#bd3786\"],[0.5555555555555556,\"#d8576b\"],[0.6666666666666666,\"#ed7953\"],[0.7777777777777778,\"#fb9f3a\"],[0.8888888888888888,\"#fdca26\"],[1.0,\"#f0f921\"]]},\"colorway\":[\"#636efa\",\"#EF553B\",\"#00cc96\",\"#ab63fa\",\"#FFA15A\",\"#19d3f3\",\"#FF6692\",\"#B6E880\",\"#FF97FF\",\"#FECB52\"],\"font\":{\"color\":\"#2a3f5f\"},\"geo\":{\"bgcolor\":\"white\",\"lakecolor\":\"white\",\"landcolor\":\"#E5ECF6\",\"showlakes\":true,\"showland\":true,\"subunitcolor\":\"white\"},\"hoverlabel\":{\"align\":\"left\"},\"hovermode\":\"closest\",\"mapbox\":{\"style\":\"light\"},\"paper_bgcolor\":\"white\",\"plot_bgcolor\":\"#E5ECF6\",\"polar\":{\"angularaxis\":{\"gridcolor\":\"white\",\"linecolor\":\"white\",\"ticks\":\"\"},\"bgcolor\":\"#E5ECF6\",\"radialaxis\":{\"gridcolor\":\"white\",\"linecolor\":\"white\",\"ticks\":\"\"}},\"scene\":{\"xaxis\":{\"backgroundcolor\":\"#E5ECF6\",\"gridcolor\":\"white\",\"gridwidth\":2,\"linecolor\":\"white\",\"showbackground\":true,\"ticks\":\"\",\"zerolinecolor\":\"white\"},\"yaxis\":{\"backgroundcolor\":\"#E5ECF6\",\"gridcolor\":\"white\",\"gridwidth\":2,\"linecolor\":\"white\",\"showbackground\":true,\"ticks\":\"\",\"zerolinecolor\":\"white\"},\"zaxis\":{\"backgroundcolor\":\"#E5ECF6\",\"gridcolor\":\"white\",\"gridwidth\":2,\"linecolor\":\"white\",\"showbackground\":true,\"ticks\":\"\",\"zerolinecolor\":\"white\"}},\"shapedefaults\":{\"line\":{\"color\":\"#2a3f5f\"}},\"ternary\":{\"aaxis\":{\"gridcolor\":\"white\",\"linecolor\":\"white\",\"ticks\":\"\"},\"baxis\":{\"gridcolor\":\"white\",\"linecolor\":\"white\",\"ticks\":\"\"},\"bgcolor\":\"#E5ECF6\",\"caxis\":{\"gridcolor\":\"white\",\"linecolor\":\"white\",\"ticks\":\"\"}},\"title\":{\"x\":0.05},\"xaxis\":{\"automargin\":true,\"gridcolor\":\"white\",\"linecolor\":\"white\",\"ticks\":\"\",\"title\":{\"standoff\":15},\"zerolinecolor\":\"white\",\"zerolinewidth\":2},\"yaxis\":{\"automargin\":true,\"gridcolor\":\"white\",\"linecolor\":\"white\",\"ticks\":\"\",\"title\":{\"standoff\":15},\"zerolinecolor\":\"white\",\"zerolinewidth\":2}}},\"title\":{\"text\":\"RMSE VS n_estimators \"},\"xaxis\":{\"title\":{\"text\":\"n_estimators\"}},\"yaxis\":{\"title\":{\"text\":\"RMSE\"}}},                        {\"responsive\": true}                    ).then(function(){\n",
       "                            \n",
       "var gd = document.getElementById('d1d7e595-6079-46a3-8e7c-cbda53fbf216');\n",
       "var x = new MutationObserver(function (mutations, observer) {{\n",
       "        var display = window.getComputedStyle(gd).display;\n",
       "        if (!display || display === 'none') {{\n",
       "            console.log([gd, 'removed!']);\n",
       "            Plotly.purge(gd);\n",
       "            observer.disconnect();\n",
       "        }}\n",
       "}});\n",
       "\n",
       "// Listen for the removal of the full notebook cells\n",
       "var notebookContainer = gd.closest('#notebook-container');\n",
       "if (notebookContainer) {{\n",
       "    x.observe(notebookContainer, {childList: true});\n",
       "}}\n",
       "\n",
       "// Listen for the clearing of the current output cell\n",
       "var outputEl = gd.closest('.output');\n",
       "if (outputEl) {{\n",
       "    x.observe(outputEl, {childList: true});\n",
       "}}\n",
       "\n",
       "                        })                };                });            </script>        </div>"
      ]
     },
     "metadata": {},
     "output_type": "display_data"
    }
   ],
   "source": [
    "import plotly.graph_objects as go\n",
    "\n",
    "x =np.arange(10,200,20)\n",
    "\n",
    "fig = go.Figure()\n",
    "\n",
    "fig.add_trace(go.Scatter(\n",
    "    x=x,\n",
    "    y=RMSE_XGBRegressor,\n",
    "    name = 'XGBRegressor', # Style name/legend entry with html tags\n",
    "    connectgaps=True # override default to connect the gaps\n",
    "))\n",
    "fig.add_trace(go.Scatter(\n",
    "    x=x,\n",
    "    y=RMSE_RandomForestRegressor,\n",
    "    name='RandomForestRegressor',\n",
    "))\n",
    "\n",
    "\n",
    "fig.update_layout(title='RMSE VS n_estimators ',\n",
    "                   xaxis_title='n_estimators',\n",
    "                   yaxis_title='RMSE')\n",
    "\n",
    "fig.show()"
   ]
  },
  {
   "cell_type": "markdown",
   "id": "bd23bc84",
   "metadata": {
    "papermill": {
     "duration": 0.033166,
     "end_time": "2022-04-07T10:22:35.002191",
     "exception": false,
     "start_time": "2022-04-07T10:22:34.969025",
     "status": "completed"
    },
    "tags": []
   },
   "source": [
    "> ### From the grarh I found that RandomForestRegressor with n_estimators = 170 have the least RMSE"
   ]
  },
  {
   "cell_type": "code",
   "execution_count": 17,
   "id": "62867dd2",
   "metadata": {
    "execution": {
     "iopub.execute_input": "2022-04-07T10:22:35.073660Z",
     "iopub.status.busy": "2022-04-07T10:22:35.072978Z",
     "iopub.status.idle": "2022-04-07T10:22:35.853684Z",
     "shell.execute_reply": "2022-04-07T10:22:35.853072Z",
     "shell.execute_reply.started": "2022-04-07T10:19:12.092995Z"
    },
    "papermill": {
     "duration": 0.817156,
     "end_time": "2022-04-07T10:22:35.853828",
     "exception": false,
     "start_time": "2022-04-07T10:22:35.036672",
     "status": "completed"
    },
    "tags": []
   },
   "outputs": [
    {
     "name": "stdout",
     "output_type": "stream",
     "text": [
      "RMSE: 0.14996710314635256\n"
     ]
    }
   ],
   "source": [
    "forest_model = RandomForestRegressor(n_estimators=170, max_depth=10)\n",
    "forest_model.fit(X_train, y_train)\n",
    "predicted_random_forest = forest_model.predict(X_valid)\n",
    "print('RMSE:', mean_squared_error(np.log(y_valid), np.log(predicted_random_forest),squared=False))"
   ]
  },
  {
   "cell_type": "code",
   "execution_count": 18,
   "id": "798561ac",
   "metadata": {
    "execution": {
     "iopub.execute_input": "2022-04-07T10:22:35.927509Z",
     "iopub.status.busy": "2022-04-07T10:22:35.926833Z",
     "iopub.status.idle": "2022-04-07T10:22:35.928778Z",
     "shell.execute_reply": "2022-04-07T10:22:35.929305Z",
     "shell.execute_reply.started": "2022-04-07T10:19:12.854335Z"
    },
    "papermill": {
     "duration": 0.041799,
     "end_time": "2022-04-07T10:22:35.929494",
     "exception": false,
     "start_time": "2022-04-07T10:22:35.887695",
     "status": "completed"
    },
    "tags": []
   },
   "outputs": [],
   "source": [
    "X_test_final.fillna(0, inplace=True)"
   ]
  },
  {
   "cell_type": "code",
   "execution_count": 19,
   "id": "31380a9a",
   "metadata": {
    "execution": {
     "iopub.execute_input": "2022-04-07T10:22:36.004936Z",
     "iopub.status.busy": "2022-04-07T10:22:36.004197Z",
     "iopub.status.idle": "2022-04-07T10:22:36.051828Z",
     "shell.execute_reply": "2022-04-07T10:22:36.052385Z",
     "shell.execute_reply.started": "2022-04-07T10:19:12.860594Z"
    },
    "papermill": {
     "duration": 0.089012,
     "end_time": "2022-04-07T10:22:36.052597",
     "exception": false,
     "start_time": "2022-04-07T10:22:35.963585",
     "status": "completed"
    },
    "tags": []
   },
   "outputs": [],
   "source": [
    "preds_test = forest_model.predict(X_test_final)"
   ]
  },
  {
   "cell_type": "code",
   "execution_count": 20,
   "id": "5b896e4a",
   "metadata": {
    "execution": {
     "iopub.execute_input": "2022-04-07T10:22:36.124359Z",
     "iopub.status.busy": "2022-04-07T10:22:36.123717Z",
     "iopub.status.idle": "2022-04-07T10:22:36.138053Z",
     "shell.execute_reply": "2022-04-07T10:22:36.137302Z",
     "shell.execute_reply.started": "2022-04-07T10:19:12.921140Z"
    },
    "papermill": {
     "duration": 0.05106,
     "end_time": "2022-04-07T10:22:36.138213",
     "exception": false,
     "start_time": "2022-04-07T10:22:36.087153",
     "status": "completed"
    },
    "tags": []
   },
   "outputs": [],
   "source": [
    "# Save test predictions to file\n",
    "output = pd.DataFrame({'Id': X_test_final.index,\n",
    "                       'SalePrice': preds_test})\n",
    "output.to_csv('submission.csv', index=False)"
   ]
  }
 ],
 "metadata": {
  "kernelspec": {
   "display_name": "Python 3",
   "language": "python",
   "name": "python3"
  },
  "language_info": {
   "codemirror_mode": {
    "name": "ipython",
    "version": 3
   },
   "file_extension": ".py",
   "mimetype": "text/x-python",
   "name": "python",
   "nbconvert_exporter": "python",
   "pygments_lexer": "ipython3",
   "version": "3.7.12"
  },
  "papermill": {
   "default_parameters": {},
   "duration": 28.047968,
   "end_time": "2022-04-07T10:22:36.983835",
   "environment_variables": {},
   "exception": null,
   "input_path": "__notebook__.ipynb",
   "output_path": "__notebook__.ipynb",
   "parameters": {},
   "start_time": "2022-04-07T10:22:08.935867",
   "version": "2.3.3"
  }
 },
 "nbformat": 4,
 "nbformat_minor": 5
}
